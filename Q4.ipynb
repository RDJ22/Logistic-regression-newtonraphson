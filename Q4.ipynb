{
 "cells": [
  {
   "cell_type": "markdown",
   "metadata": {},
   "source": [
    "### Solutions"
   ]
  },
  {
   "cell_type": "markdown",
   "metadata": {},
   "source": [
    "#### 1i.) We are working with a logit (logistic regression) model where the probability of an event yi occurring depends on the explanatory variables xi and a vector of coefficients β. The probability distribution function (pdf) of yi is given by:\n",
    "\n",
    "$$\n",
    "f(y_i; \\mathbf{\\beta}) = \\mu_i^{y_i} (1 - \\mu_i)^{1 - y_i}\n",
    "$$\n",
    "\n",
    "#### where yi ∈{0,1}, and 𝜇i is the predicted probability of event yi = 1, given by the logistic function:\n",
    "\n",
    "$$\n",
    "\\mu_i = \\frac{1}{1 + \\exp(-\\mathbf{x}_i^\\prime \\mathbf{\\beta})}\n",
    "$$"
   ]
  },
  {
   "cell_type": "markdown",
   "metadata": {},
   "source": [
    "#### The log-likelihood function is the sum of the log-probabilities for all n observations. Since yi ∈{0,1}, we use the Bernoulli likelihood for each observation.\n",
    "\n",
    "#### The likelihood function for each yi is:\n",
    "\n",
    "$$\n",
    "L_i = \\mu_i^{y_i} (1 - \\mu_i)^{1 - y_i}\n",
    "$$\n",
    "\n",
    "#### Taking the natural logarithm of this expression to get the log-likelihood:\n",
    "\n",
    "$$\n",
    "\\log L_i = y_i \\log(\\mu_i) + (1 - y_i) \\log(1 - \\mu_i)\n",
    "$$\n",
    "\n",
    "#### Substitute \n",
    "$$ \\mu_i = \\frac{1}{1 + \\exp(-\\mathbf{x}_i^\\prime \\mathbf{\\beta})} \n",
    "$$\n",
    "#### We get;\n",
    "$$\n",
    "\\log L_i = y_i \\log\\left( \\frac{1}{1 + \\exp(-\\mathbf{x}_i^\\prime \\mathbf{\\beta})} \\right) + (1 - y_i) \\log\\left( \\frac{\\exp(-\\mathbf{x}_i^\\prime \\mathbf{\\beta})}{1 + \\exp(-\\mathbf{x}_i^\\prime \\mathbf{\\beta})} \\right)\n",
    "$$\n"
   ]
  },
  {
   "cell_type": "markdown",
   "metadata": {},
   "source": [
    "#### Simplifying:\n",
    "\n",
    "$$\n",
    "\\log L_i = y_i \\left( -\\log(1 + \\exp(-\\mathbf{x}_i^\\prime \\mathbf{\\beta})) \\right) + (1 - y_i) \\left( -\\mathbf{x}_i^\\prime \\mathbf{\\beta} - \\log(1 + \\exp(-\\mathbf{x}_i^\\prime \\mathbf{\\beta})) \\right)\n",
    "$$\n",
    "\n",
    "##### The total log-likelihood over all observations is the sum of individual log-likelihoods:\n",
    "\n",
    "$$\n",
    "\\mathcal{L}(\\mathbf{\\beta}) = \\sum_{i=1}^n \\log L_i\n",
    "$$\n",
    "\n",
    "#### Simplifying the log-likelihood function:\n",
    "\n",
    "$$\n",
    "\\mathcal{L}(\\mathbf{\\beta}) = \\sum_{i=1}^n \\left[ y_i (\\mathbf{x}_i^\\prime \\mathbf{\\beta}) - \\log(1 + \\exp(\\mathbf{x}_i^\\prime \\mathbf{\\beta})) \\right]\n",
    "$$\n"
   ]
  },
  {
   "cell_type": "markdown",
   "metadata": {},
   "source": [
    "#### Gradient of the Log-Likelihood:\n",
    "\n",
    "#### The gradient is the vector of partial derivatives of the log-likelihood with respect to each coefficient in β. Let's differentiate the log-likelihood with respect to β.\n",
    "\n",
    "#### Taking the derivative of the log-likelihood:\n",
    "\n",
    "$$\n",
    "\\frac{\\partial \\mathcal{L}(\\mathbf{\\beta})}{\\partial \\mathbf{\\beta}} = \\sum_{i=1}^n \\left[ y_i \\mathbf{x}_i - \\frac{\\exp(\\mathbf{x}_i^\\prime \\mathbf{\\beta})}{1 + \\exp(\\mathbf{x}_i^\\prime \\mathbf{\\beta})} \\mathbf{x}_i \\right]\n",
    "$$\n",
    "\n",
    "#### Using \n",
    "$$ \\mu_i = \\frac{1}{1 + \\exp(-\\mathbf{x}_i^\\prime \\mathbf{\\beta})} $$\n",
    "#### this simplifies to:\n",
    "\n",
    "$$\n",
    "\\frac{\\partial \\mathcal{L}(\\mathbf{\\beta})}{\\partial \\mathbf{\\beta}} = \\sum_{i=1}^n \\mathbf{x}_i \\left( y_i - \\mu_i \\right)\n",
    "$$\n",
    "\n",
    "#### This is the gradient of the log-likelihood."
   ]
  },
  {
   "cell_type": "markdown",
   "metadata": {},
   "source": [
    "#### Hessian of the Log-Likelihood:\n",
    "\n",
    "#### The Hessian matrix is the matrix of second-order partial derivatives of the log-likelihood function with respect to the coefficients β.\n",
    "\n",
    "#### To compute the Hessian, we take the derivative of the gradient with respect to β:\n",
    "\n",
    "$$\n",
    "H(\\beta) = \\frac{\\partial^2 \\log L(\\beta)}{\\partial \\beta \\partial \\beta'}\n",
    "$$\n",
    "\n",
    "#### Thus the Hessian for logistic regression is given by:\n",
    "$$\n",
    "H(\\beta) = - \\sum_{i=1}^{n} \\mu_i (1 - \\mu_i) \\mathbf{x}_i \\mathbf{x}_i'\n",
    "$$\n",
    "\n",
    "\n",
    "\n",
    "#### This is a negative definite matrix, which ensures that the log-likelihood function is concave, and thus we can use it for optimization (e.g., Newton-Raphson).\n"
   ]
  },
  {
   "cell_type": "markdown",
   "metadata": {},
   "source": [
    "<brb>"
   ]
  },
  {
   "cell_type": "markdown",
   "metadata": {},
   "source": [
    "#### 1ii.) Using Python, write a class to represent the Logit model.\n"
   ]
  },
  {
   "cell_type": "code",
   "execution_count": 2,
   "metadata": {},
   "outputs": [],
   "source": [
    "import numpy as np\n",
    "from scipy.optimize import minimize\n",
    "\n",
    "class LogitModel:\n",
    "    def __init__(self, X, y):\n",
    "        \"\"\"\n",
    "        Initialize the Logit model with feature matrix X and target vector y.\n",
    "        X: Feature matrix of shape (n_samples, n_features)\n",
    "        y: Target vector of shape (n_samples,)\n",
    "        \"\"\"\n",
    "        self.X = np.array(X)\n",
    "        self.y = np.array(y)\n",
    "        self.n_samples, self.n_features = self.X.shape\n",
    "        self.beta = np.zeros(self.n_features)  # Initial coefficients set to zero\n",
    "    \n",
    "    def sigmoid(self, z):\n",
    "        \"\"\"\n",
    "        Sigmoid (logistic) function.\n",
    "        z: Input array of shape (n_samples,)\n",
    "        Returns: Array of sigmoid values.\n",
    "        \"\"\"\n",
    "        return 1 / (1 + np.exp(-z))\n",
    "\n",
    "    def log_likelihood(self, beta):\n",
    "        \"\"\"\n",
    "        Calculate the log-likelihood function for the Logit model.\n",
    "        beta: Coefficient vector of shape (n_features,)\n",
    "        Returns: The log-likelihood value (scalar).\n",
    "        \"\"\"\n",
    "        X_beta = np.dot(self.X, beta)\n",
    "        mu = self.sigmoid(X_beta)\n",
    "        # Log-likelihood function\n",
    "        ll = np.sum(self.y * np.log(mu) + (1 - self.y) * np.log(1 - mu))\n",
    "        return ll\n",
    "    \n",
    "    def gradient(self, beta):\n",
    "        \"\"\"\n",
    "        Compute the gradient of the log-likelihood function.\n",
    "        beta: Coefficient vector of shape (n_features,)\n",
    "        Returns: Gradient vector of shape (n_features,).\n",
    "        \"\"\"\n",
    "        X_beta = np.dot(self.X, beta)\n",
    "        mu = self.sigmoid(X_beta)\n",
    "        # Gradient is the derivative of log-likelihood with respect to beta\n",
    "        grad = np.dot(self.X.T, self.y - mu)\n",
    "        return grad\n",
    "    \n",
    "    def hessian(self, beta):\n",
    "        \"\"\"\n",
    "        Compute the Hessian matrix of the log-likelihood function.\n",
    "        beta: Coefficient vector of shape (n_features,)\n",
    "        Returns: Hessian matrix of shape (n_features, n_features).\n",
    "        \"\"\"\n",
    "        X_beta = np.dot(self.X, beta)\n",
    "        mu = self.sigmoid(X_beta)\n",
    "        W = np.diag(mu * (1 - mu))  # Weight matrix\n",
    "        # Hessian is X'WX\n",
    "        hess = np.dot(np.dot(self.X.T, W), self.X)\n",
    "        return hess\n",
    "    \n",
    "    def fit(self):\n",
    "        \"\"\"\n",
    "        Fit the Logit model using maximum likelihood estimation.\n",
    "        Uses scipy.optimize.minimize to maximize the log-likelihood.\n",
    "        \"\"\"\n",
    "        result = minimize(fun=lambda beta: -self.log_likelihood(beta),  # Minimizing negative log-likelihood\n",
    "                          x0=self.beta,  # Initial guess for beta\n",
    "                          jac=lambda beta: -self.gradient(beta),  # Gradient for optimization\n",
    "                          method='BFGS',  # Quasi-Newton method\n",
    "                          options={'disp': True})\n",
    "        self.beta = result.x\n",
    "        return self.beta\n",
    "\n",
    "    def predict_proba(self, X_new):\n",
    "        \"\"\"\n",
    "        Predict probabilities for new data points.\n",
    "        X_new: New feature matrix of shape (n_samples_new, n_features)\n",
    "        Returns: Probabilities of shape (n_samples_new,)\n",
    "        \"\"\"\n",
    "        X_new = np.array(X_new)                   # Ensure X_new is a NumPy array\n",
    "        return self.sigmoid(np.dot(X_new, self.beta))   # Apply sigmoid to linear predictor\n",
    "    \n",
    "    def predict(self, X_new, threshold=0.5):\n",
    "        \"\"\"\n",
    "        Predict class labels (0 or 1) for new data points based on a threshold.\n",
    "        X_new: New feature matrix of shape (n_samples_new, n_features)\n",
    "        threshold: Threshold for classifying probabilities into 0 or 1.\n",
    "        Returns: Predicted class labels of shape (n_samples_new,)\n",
    "        \"\"\"\n",
    "        probas = self.predict_proba(X_new)        # Get predicted probabilities\n",
    "        return (probas >= threshold).astype(int)   # Classify based on threshold\n"
   ]
  },
  {
   "cell_type": "markdown",
   "metadata": {},
   "source": [
    "##### The logit model class above implements logistic regression for binary classification. It estimates model coefficients using maximum likelihood estimation and optimizes them through the Broyden–Fletcher–Goldfarb–Shanno (BFGS) algorithm. It includes methods for computing the log-likelihood, gradient, and Hessian, and it can predict probabilities or binary outcomes for new data using a sigmoid function."
   ]
  },
  {
   "cell_type": "markdown",
   "metadata": {},
   "source": [
    "<brb>"
   ]
  },
  {
   "cell_type": "markdown",
   "metadata": {},
   "source": [
    "#### 1iii.) Use the following dataset and initial values of 𝜷 to estimate the MLE with the Newton-Raphson algorithm developed in class:"
   ]
  },
  {
   "cell_type": "code",
   "execution_count": 3,
   "metadata": {},
   "outputs": [
    {
     "name": "stdout",
     "output_type": "stream",
     "text": [
      "Iteration_k  Log-likelihood  θ                                                           \n",
      "-----------------------------------------------------------------------------------------\n",
      "0            -2.4304503      ['-2.11', '1.07', '-0.161']\n",
      "1            -2.4091638      ['-2.39', '1.2', '-0.153']\n",
      "2            -2.408845       ['-2.42', '1.23', '-0.158']\n",
      "3            -2.4088448      ['-2.43', '1.23', '-0.158']\n",
      "4            -2.4088448      ['-2.43', '1.23', '-0.158']\n",
      "Number of iterations: 5\n",
      "β_hat = [-2.4250679   1.22951194 -0.15811793]\n"
     ]
    }
   ],
   "source": [
    "import numpy as np\n",
    "# the logit model as defined above\n",
    "class LogitModel:\n",
    "    def __init__(self, X, y, beta):\n",
    "        self.X = X\n",
    "        self.y = y\n",
    "        self.beta = beta\n",
    "        self.n_samples, self.n_features = X.shape\n",
    "\n",
    "    def sigmoid(self, z):\n",
    "        return 1 / (1 + np.exp(-z))\n",
    "\n",
    "    def logL(self):\n",
    "        mu = self.sigmoid(np.dot(self.X, self.beta))\n",
    "        return np.sum(self.y * np.log(mu) + (1 - self.y) * np.log(1 - mu))\n",
    "\n",
    "    def G(self):\n",
    "        mu = self.sigmoid(np.dot(self.X, self.beta))\n",
    "        return np.dot(self.X.T, self.y - mu)\n",
    "\n",
    "    def H(self):\n",
    "        mu = self.sigmoid(np.dot(self.X, self.beta))\n",
    "        W = np.diag(mu * (1 - mu))  # Diagonal weight matrix\n",
    "        return -np.dot(np.dot(self.X.T, W), self.X)\n",
    "#the newton_raphson\n",
    "def newton_raphson(model, tol=1e-4, max_iter=1000, display=True):\n",
    "    i = 0\n",
    "    error = 100  # Initial error value\n",
    "\n",
    "    # Print header of output\n",
    "    if display:\n",
    "        header = f'{\"Iteration_k\":<13}{\"Log-likelihood\":<16}{\"θ\":<60}'\n",
    "        print(header)\n",
    "        print(\"-\" * len(header))\n",
    "\n",
    "    # While loop runs while any value in error is greater than the tolerance\n",
    "    while np.any(error > tol) and i < max_iter:\n",
    "        H, G = model.H(), model.G()\n",
    "        beta_new = model.beta - (np.linalg.inv(H) @ G)\n",
    "        error = np.abs(beta_new - model.beta)\n",
    "        model.beta = beta_new\n",
    "\n",
    "        # Print iterations\n",
    "        if display:\n",
    "            beta_list = [f'{t:.3}' for t in list(model.beta.flatten())]\n",
    "            update = f'{i:<13}{model.logL():<16.8}{beta_list}'\n",
    "            print(update)\n",
    "\n",
    "        i += 1\n",
    "\n",
    "    print(f'Number of iterations: {i}')\n",
    "    print(f'β_hat = {model.beta.flatten()}')\n",
    "\n",
    "    return model.beta.flatten()\n",
    "\n",
    "# Dataset\n",
    "X = np.array([[1, 2, 4],\n",
    "              [1, 1, 1],\n",
    "              [1, 4, 3],\n",
    "              [1, 5, 6],\n",
    "              [1, 3, 5]])\n",
    "\n",
    "y = np.array([1, 0, 1, 1, 0])\n",
    "\n",
    "# Initial beta values\n",
    "beta_0 = np.array([0.1, 0.1, 0.1])\n",
    "\n",
    "# Create the model\n",
    "model = LogitModel(X, y, beta_0)\n",
    "\n",
    "# Perform Newton-Raphson optimization\n",
    "beta_hat = newton_raphson(model)"
   ]
  },
  {
   "cell_type": "code",
   "execution_count": 4,
   "metadata": {},
   "outputs": [
    {
     "name": "stdout",
     "output_type": "stream",
     "text": [
      "Optimization terminated successfully.\n",
      "         Current function value: 0.481769\n",
      "         Iterations 6\n",
      "\n",
      "Estimated coefficients using statsmodels:\n",
      "[-2.4250679   1.22951194 -0.15811793]\n"
     ]
    },
    {
     "data": {
      "image/png": "[encoded data removed]",
      "text/plain": [
       "<Figure size 800x500 with 1 Axes>"
      ]
     },
     "metadata": {},
     "output_type": "display_data"
    }
   ],
   "source": [
    "import numpy as np\n",
    "import statsmodels.api as sm\n",
    "import matplotlib.pyplot as plt\n",
    "\n",
    "# Dataset (same as before)\n",
    "X = np.array([[1, 2, 4],\n",
    "              [1, 1, 1],\n",
    "              [1, 4, 3],\n",
    "              [1, 5, 6],\n",
    "              [1, 3, 5]])\n",
    "\n",
    "y = np.array([1, 0, 1, 1, 0])\n",
    "\n",
    "# Using statsmodels to fit the Logit model\n",
    "# Add an intercept term (bias term) to the dataset\n",
    "logit_model = sm.Logit(y, X)\n",
    "\n",
    "# Fit the model and obtain the result\n",
    "result = logit_model.fit()\n",
    "\n",
    "# Print the estimated coefficients (MLE)\n",
    "print(\"\\nEstimated coefficients using statsmodels:\")\n",
    "print(result.params)\n",
    "\n",
    "\n",
    "# plot\n",
    "final_probs = 1 / (1 + np.exp(-X @ beta_hat))  # sigmoid of X @ beta_hat\n",
    "\n",
    "plt.figure(figsize=(8, 5))\n",
    "plt.plot(range(len(y)), final_probs, label=\"Predicted Probabilities\", marker='o', color='blue')\n",
    "plt.scatter(range(len(y)), y, label=\"True Labels\", color='red', marker='x', s=80)\n",
    "plt.title(\"Predicted Probabilities vs True Labels\")\n",
    "plt.xlabel(\"Observation\")\n",
    "plt.ylabel(\"Probability / Outcome\")\n",
    "plt.legend()\n",
    "plt.grid(True)\n",
    "plt.tight_layout()\n",
    "plt.show()\n"
   ]
  },
  {
   "cell_type": "markdown",
   "metadata": {},
   "source": [
    "##### The output demonstrates the successful implementation of the Newton-Raphson algorithm for logistic regression. The match between the results validates the accuracy and the correctness of the analytical derivations for the gradient and Hessian. The low negative log-likelihood suggests a reasonably good fit of the logistic regression model to the data."
   ]
  },
  {
   "cell_type": "markdown",
   "metadata": {},
   "source": [
    "<brb>"
   ]
  },
  {
   "cell_type": "markdown",
   "metadata": {},
   "source": [
    "<brb>"
   ]
  },
  {
   "cell_type": "markdown",
   "metadata": {},
   "source": [
    "<brb>"
   ]
  }
 ],
 "metadata": {
  "kernelspec": {
   "display_name": "base",
   "language": "python",
   "name": "python3"
  },
  "language_info": {
   "codemirror_mode": {
    "name": "ipython",
    "version": 3
   },
   "file_extension": ".py",
   "mimetype": "text/x-python",
   "name": "python",
   "nbconvert_exporter": "python",
   "pygments_lexer": "ipython3",
   "version": "3.12.7"
  }
 },
 "nbformat": 4,
 "nbformat_minor": 2
}
